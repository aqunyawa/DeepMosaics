{
  "nbformat": 4,
  "nbformat_minor": 0,
  "metadata": {
    "colab": {
      "provenance": [],
      "private_outputs": true,
      "gpuType": "T4",
      "include_colab_link": true
    },
    "kernelspec": {
      "name": "python3",
      "display_name": "Python 3"
    },
    "accelerator": "GPU"
  },
  "cells": [
    {
      "cell_type": "markdown",
      "metadata": {
        "id": "view-in-github",
        "colab_type": "text"
      },
      "source": [
        "<a href=\"https://colab.research.google.com/github/aqunyawa/DeepMosaics/blob/master/DeepMosaicsNewColab.ipynb\" target=\"_parent\"><img src=\"https://colab.research.google.com/assets/colab-badge.svg\" alt=\"Open In Colab\"/></a>"
      ]
    },
    {
      "cell_type": "markdown",
      "metadata": {
        "id": "Iu_qXI_FtBBY"
      },
      "source": [
        "# DeepMosaics v0.5.1 Updated Colab version by @theaquawave\n",
        "\n",
        "Original Github: [HypoX64/DeepMosaics](https://github.com/HypoX64/DeepMosaics)\n",
        "\n",
        "Colab fork initially taken from: [styler00dollar/Colab-DeepMosaics](https://github.com/styler00dollar/Colab-DeepMosaics)\n",
        "\n",
        "This colab does work with a video by default, but it can also work with pictures.\n",
        "Updates compared to original Colab version:\n",
        "- DeepMosaics version is now v0.51 (the newest one)\n",
        "- Import and export goes directly from gdrive to gdrive (without copying to Colab storage first)\n",
        "- Added settings (THR, FPS, video start/end points etc)\n",
        "\n",
        "Todo: add a normal progress bar to script (idk how to)"
      ]
    },
    {
      "cell_type": "code",
      "metadata": {
        "id": "T5mhzYhdow_Q"
      },
      "source": [
        "# Check your GPU\n",
        "!nvidia-smi"
      ],
      "execution_count": null,
      "outputs": []
    },
    {
      "cell_type": "markdown",
      "source": [
        "**Changing Python version to 3.6 to allow packages to install**\n",
        "\n",
        "For some unknown reason DeepMosaics don't want to work with Python 3.8 or higher.\n",
        "\n",
        "**DON'T PRESS ON \"RESTART RUNTIME\" AFTER INSTALLATION WHEN IT SAYS IT!**\n"
      ],
      "metadata": {
        "id": "ASYcu0fV2Ojj"
      }
    },
    {
      "cell_type": "code",
      "metadata": {
        "id": "oeEj2FZoncOt"
      },
      "source": [
        "import os\n",
        "import sys\n",
        "!sudo apt install python3.6\n",
        "!sudo update-alternatives --install /usr/bin/python3 python3 /usr/bin/python3.6 1\n",
        "!sudo update-alternatives --set python3 /usr/bin/python3.6\n",
        "!python --version\n",
        "!sudo apt install python3-pip\n",
        "!sudo apt install python3.6-distutils\n",
        "!sudo apt install python3-apt\n",
        "!pip install --upgrade pip\n",
        "!git clone https://github.com/HypoX64/DeepMosaics\n",
        "%cd /content/DeepMosaics/\n",
        "!pip install -r requirements.txt\n",
        "%cd /content/DeepMosaics/pretrained_models\n",
        "!pip install gdown\n",
        "!gdown 11uUaHPVq5zubGP9_xAOb5O1vPu9GK0XR #mosaic_position\n",
        "!gdown 1ulct4RhRxQp1v5xwEmUH7xz7AK42Oqlw #clean_youknowwhat_video\n"
      ],
      "execution_count": null,
      "outputs": []
    },
    {
      "cell_type": "code",
      "metadata": {
        "id": "PSJnfMuWo0Qf",
        "cellView": "form"
      },
      "source": [
        "#@markdown # Connect Google Drive\n",
        "import os\n",
        "import sys\n",
        "import six\n",
        "import socks\n",
        "import PIL\n",
        "import certifi\n",
        "import cycler\n",
        "import dateutil\n",
        "import decorator\n",
        "import time\n",
        "from google.colab import drive\n",
        "from google.colab import output\n",
        "output.enable_custom_widget_manager()\n",
        "drive.mount('/content/drive')\n",
        "print('Google Drive connected.')"
      ],
      "execution_count": null,
      "outputs": []
    },
    {
      "cell_type": "markdown",
      "source": [
        "Default settings for decensoring are: FPS=30, THR=64, whole video.\n",
        "Pay attention that there is no live output for progress, you'll see it only on operation's end. IDK why is it working like this and no, I didn't find the solution yet. Let it be, I guess."
      ],
      "metadata": {
        "id": "lN9KcSWb20MN"
      }
    },
    {
      "cell_type": "code",
      "metadata": {
        "id": "YgA9zKDm4e-5",
        "cellView": "form"
      },
      "source": [
        "#@markdown # Apply clean_youknow_video.pth and copy result back to Google Drive\n",
        "input_file = \"/content/drive/MyDrive/AI/13618359-720p.mp4\" # @param {type:\"string\"}\n",
        "mode = \"clean\" # @param [\"clean\", \"add\"] {allow-input: false}\n",
        "#@markdown Please don't use mode \"add\", not ready yet\n",
        "thr = \"16\"  # @param {type:\"string\"}\n",
        "fps = \"30\"  # @param {type:\"string\"}\n",
        "start = \"00:00:00\" # @param {type:\"string\"}\n",
        "end = \"00:00:00\" # @param {type:\"string\"}\n",
        "import torch\n",
        "torch.cuda.is_available()\n",
        "%cd /content/DeepMosaics/\n",
        "output_path = \"/content/drive/MyDrive/AI/\" #@param{type:\"string\"}\n",
        "!python3 deepmosaic.py --mode '{mode}' --media_path '{input_file}' --model_path /content/DeepMosaics/pretrained_models/clean_youknow_video.pth --fps '{fps}' --gpu_id 0 -ss '{start}' -t '{end}' --result_dir '{output_path}' --mask_threshold '{thr}' --no_preview"
      ],
      "execution_count": null,
      "outputs": []
    }
  ]
}